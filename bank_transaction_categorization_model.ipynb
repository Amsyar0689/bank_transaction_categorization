{
 "cells": [
  {
   "cell_type": "markdown",
   "metadata": {},
   "source": [
    "### Bank Transaction Categorization Using Random Forest Algorithm\n",
    "##### By Muhammad Amsyar Luqman Bin Md Hanif\n",
    "#### 1. Introduction\n",
    "##### MoneyLion serves as a platform that assists users by creating personalized financial solutions for their users. Given that thousands of transactions happen daily, categorizing transactions is essential so that MoneyLion can group the transaction by category to discover insights and advise users on how to manage their financial better. This report presents the implementation of a Random-Forest Classification model t0 categorize the transactions using textual information, numerical features, and user profile data. This model integrates TF-IDF Vectorization, One-Hot Encoding, and Cross Validation to ensure robustness."
   ]
  },
  {
   "cell_type": "markdown",
   "metadata": {},
   "source": [
    "#### 2. Problem Definition and Algorithm\n",
    "##### 2.1 Task Definition\n",
    "##### The problem addressed in this report is the automated categorizing of banking transactions. This is based on descriptions, amunts, and user profile attributes. As Artificial Intelligence continue to evolve in helpful manner, manual categorization is inefficient and prone to error. This problem is interesting because:\n",
    "##### 1) Automated transaction classification helps users to better track their financial well-being\n",
    "##### 2) Fraud detection is much easier if any unusual transaction appears.\n",
    "##### 3) Manual categorization is infeasible at large scale as human error are more likely to happen\n",
    "##### 2.2 Algorithm Definition\n",
    "##### To address this automation problem, Random Forest Algorithm is suitable to classify the transactions. Random Forest Classification is a powerful machine learning algorithm that incoporates multiple decison trees to classify data."
   ]
  },
  {
   "cell_type": "markdown",
   "metadata": {},
   "source": [
    "#### 3. Data and Preprocessing\n",
    "##### The dataset contains two files:\n",
    "##### `bank_transaction.csv` contains the transactions data and expected categories\n",
    "##### `user_profile.csv` contains selected of users and their financial profiles"
   ]
  },
  {
   "cell_type": "code",
   "execution_count": 1,
   "metadata": {},
   "outputs": [],
   "source": [
    "# IMPORT STATEMENTS\n",
    "import pandas as pd\n",
    "import re\n",
    "import warnings\n",
    "from matplotlib import pyplot as plt\n",
    "from sklearn.pipeline import Pipeline\n",
    "from sklearn.feature_extraction.text import TfidfVectorizer\n",
    "from sklearn.preprocessing import OneHotEncoder, StandardScaler\n",
    "from sklearn.compose import ColumnTransformer\n",
    "from sklearn.ensemble import RandomForestClassifier\n",
    "from sklearn.model_selection import train_test_split, cross_val_score, KFold\n",
    "from sklearn.metrics import accuracy_score, classification_report"
   ]
  },
  {
   "cell_type": "code",
   "execution_count": 2,
   "metadata": {},
   "outputs": [],
   "source": [
    "# LOAD DATASET\n",
    "\n",
    "bank_transaction = pd.read_csv(\"bank_transaction.csv\")\n",
    "user_profile = pd.read_csv(\"user_profile.csv\")"
   ]
  },
  {
   "cell_type": "code",
   "execution_count": 3,
   "metadata": {},
   "outputs": [
    {
     "data": {
      "text/html": [
       "<div>\n",
       "<style scoped>\n",
       "    .dataframe tbody tr th:only-of-type {\n",
       "        vertical-align: middle;\n",
       "    }\n",
       "\n",
       "    .dataframe tbody tr th {\n",
       "        vertical-align: top;\n",
       "    }\n",
       "\n",
       "    .dataframe thead th {\n",
       "        text-align: right;\n",
       "    }\n",
       "</style>\n",
       "<table border=\"1\" class=\"dataframe\">\n",
       "  <thead>\n",
       "    <tr style=\"text-align: right;\">\n",
       "      <th></th>\n",
       "      <th>client_id</th>\n",
       "      <th>bank_id</th>\n",
       "      <th>account_id</th>\n",
       "      <th>txn_id</th>\n",
       "      <th>txn_date</th>\n",
       "      <th>description</th>\n",
       "      <th>amount</th>\n",
       "      <th>category</th>\n",
       "    </tr>\n",
       "  </thead>\n",
       "  <tbody>\n",
       "    <tr>\n",
       "      <th>0</th>\n",
       "      <td>1</td>\n",
       "      <td>1</td>\n",
       "      <td>1</td>\n",
       "      <td>4</td>\n",
       "      <td>2023-09-29 00:00:00</td>\n",
       "      <td>Earnin           PAYMENT                 Donat...</td>\n",
       "      <td>20.0</td>\n",
       "      <td>Loans</td>\n",
       "    </tr>\n",
       "    <tr>\n",
       "      <th>1</th>\n",
       "      <td>1</td>\n",
       "      <td>1</td>\n",
       "      <td>1</td>\n",
       "      <td>3</td>\n",
       "      <td>2023-08-14 00:00:00</td>\n",
       "      <td>ONLINE TRANSFER FROM NDonatas DanyalDA O CARSO...</td>\n",
       "      <td>25.0</td>\n",
       "      <td>Transfer Credit</td>\n",
       "    </tr>\n",
       "    <tr>\n",
       "      <th>2</th>\n",
       "      <td>1</td>\n",
       "      <td>1</td>\n",
       "      <td>1</td>\n",
       "      <td>5</td>\n",
       "      <td>2023-09-25 00:00:00</td>\n",
       "      <td>MONEY TRANSFER                          AUTHOR...</td>\n",
       "      <td>20.0</td>\n",
       "      <td>Loans</td>\n",
       "    </tr>\n",
       "    <tr>\n",
       "      <th>3</th>\n",
       "      <td>1</td>\n",
       "      <td>1</td>\n",
       "      <td>2</td>\n",
       "      <td>1</td>\n",
       "      <td>2023-06-02 00:00:00</td>\n",
       "      <td>ONLINE TRANSFER FROM CARSON N EVERYDAY CHECKIN...</td>\n",
       "      <td>16.0</td>\n",
       "      <td>Transfer Credit</td>\n",
       "    </tr>\n",
       "    <tr>\n",
       "      <th>4</th>\n",
       "      <td>1</td>\n",
       "      <td>1</td>\n",
       "      <td>2</td>\n",
       "      <td>2</td>\n",
       "      <td>2023-06-01 00:00:00</td>\n",
       "      <td>ONLINE TRANSFER FROM CARSON N EVERYDAY CHECKIN...</td>\n",
       "      <td>4.0</td>\n",
       "      <td>Transfer Credit</td>\n",
       "    </tr>\n",
       "  </tbody>\n",
       "</table>\n",
       "</div>"
      ],
      "text/plain": [
       "   client_id  bank_id  account_id  txn_id             txn_date  \\\n",
       "0          1        1           1       4  2023-09-29 00:00:00   \n",
       "1          1        1           1       3  2023-08-14 00:00:00   \n",
       "2          1        1           1       5  2023-09-25 00:00:00   \n",
       "3          1        1           2       1  2023-06-02 00:00:00   \n",
       "4          1        1           2       2  2023-06-01 00:00:00   \n",
       "\n",
       "                                         description  amount         category  \n",
       "0  Earnin           PAYMENT                 Donat...    20.0            Loans  \n",
       "1  ONLINE TRANSFER FROM NDonatas DanyalDA O CARSO...    25.0  Transfer Credit  \n",
       "2  MONEY TRANSFER                          AUTHOR...    20.0            Loans  \n",
       "3  ONLINE TRANSFER FROM CARSON N EVERYDAY CHECKIN...    16.0  Transfer Credit  \n",
       "4  ONLINE TRANSFER FROM CARSON N EVERYDAY CHECKIN...     4.0  Transfer Credit  "
      ]
     },
     "execution_count": 3,
     "metadata": {},
     "output_type": "execute_result"
    }
   ],
   "source": [
    "# PREVIEW THE BANK TRANSACTION DATASET\n",
    "bank_transaction.head()"
   ]
  },
  {
   "cell_type": "markdown",
   "metadata": {},
   "source": [
    "##### The distribution of the Category in the `bank_transaction` dataset is presented below with `Uncategorized` category having the most occurences in the dataset. "
   ]
  },
  {
   "cell_type": "code",
   "execution_count": 4,
   "metadata": {},
   "outputs": [
    {
     "data": {
      "image/png": "[encoded data removed]",
      "text/plain": [
       "<Figure size 1000x600 with 1 Axes>"
      ]
     },
     "metadata": {},
     "output_type": "display_data"
    }
   ],
   "source": [
    "# CATEGORY DISTRIBUTION\n",
    "\n",
    "plt.figure(figsize=(10, 6))\n",
    "bank_transaction['category'].value_counts().plot(kind='bar')\n",
    "plt.title('Category Distribution')\n",
    "plt.xlabel('Category')\n",
    "plt.ylabel('Count')\n",
    "plt.show()"
   ]
  },
  {
   "cell_type": "code",
   "execution_count": 5,
   "metadata": {},
   "outputs": [
    {
     "data": {
      "text/html": [
       "<div>\n",
       "<style scoped>\n",
       "    .dataframe tbody tr th:only-of-type {\n",
       "        vertical-align: middle;\n",
       "    }\n",
       "\n",
       "    .dataframe tbody tr th {\n",
       "        vertical-align: top;\n",
       "    }\n",
       "\n",
       "    .dataframe thead th {\n",
       "        text-align: right;\n",
       "    }\n",
       "</style>\n",
       "<table border=\"1\" class=\"dataframe\">\n",
       "  <thead>\n",
       "    <tr style=\"text-align: right;\">\n",
       "      <th></th>\n",
       "      <th>CLIENT_ID</th>\n",
       "      <th>IS_INTERESTED_INVESTMENT</th>\n",
       "      <th>IS_INTERESTED_BUILD_CREDIT</th>\n",
       "      <th>IS_INTERESTED_INCREASE_INCOME</th>\n",
       "      <th>IS_INTERESTED_PAY_OFF_DEBT</th>\n",
       "      <th>IS_INTERESTED_MANAGE_SPENDING</th>\n",
       "      <th>IS_INTERESTED_GROW_SAVINGS</th>\n",
       "    </tr>\n",
       "  </thead>\n",
       "  <tbody>\n",
       "    <tr>\n",
       "      <th>0</th>\n",
       "      <td>1</td>\n",
       "      <td>False</td>\n",
       "      <td>False</td>\n",
       "      <td>False</td>\n",
       "      <td>False</td>\n",
       "      <td>False</td>\n",
       "      <td>False</td>\n",
       "    </tr>\n",
       "    <tr>\n",
       "      <th>1</th>\n",
       "      <td>2</td>\n",
       "      <td>False</td>\n",
       "      <td>False</td>\n",
       "      <td>False</td>\n",
       "      <td>False</td>\n",
       "      <td>False</td>\n",
       "      <td>False</td>\n",
       "    </tr>\n",
       "    <tr>\n",
       "      <th>2</th>\n",
       "      <td>3</td>\n",
       "      <td>False</td>\n",
       "      <td>False</td>\n",
       "      <td>False</td>\n",
       "      <td>False</td>\n",
       "      <td>False</td>\n",
       "      <td>False</td>\n",
       "    </tr>\n",
       "    <tr>\n",
       "      <th>3</th>\n",
       "      <td>4</td>\n",
       "      <td>False</td>\n",
       "      <td>True</td>\n",
       "      <td>True</td>\n",
       "      <td>True</td>\n",
       "      <td>True</td>\n",
       "      <td>True</td>\n",
       "    </tr>\n",
       "    <tr>\n",
       "      <th>4</th>\n",
       "      <td>5</td>\n",
       "      <td>True</td>\n",
       "      <td>False</td>\n",
       "      <td>True</td>\n",
       "      <td>True</td>\n",
       "      <td>True</td>\n",
       "      <td>False</td>\n",
       "    </tr>\n",
       "  </tbody>\n",
       "</table>\n",
       "</div>"
      ],
      "text/plain": [
       "   CLIENT_ID  IS_INTERESTED_INVESTMENT  IS_INTERESTED_BUILD_CREDIT  \\\n",
       "0          1                     False                       False   \n",
       "1          2                     False                       False   \n",
       "2          3                     False                       False   \n",
       "3          4                     False                        True   \n",
       "4          5                      True                       False   \n",
       "\n",
       "   IS_INTERESTED_INCREASE_INCOME  IS_INTERESTED_PAY_OFF_DEBT  \\\n",
       "0                          False                       False   \n",
       "1                          False                       False   \n",
       "2                          False                       False   \n",
       "3                           True                        True   \n",
       "4                           True                        True   \n",
       "\n",
       "   IS_INTERESTED_MANAGE_SPENDING  IS_INTERESTED_GROW_SAVINGS  \n",
       "0                          False                       False  \n",
       "1                          False                       False  \n",
       "2                          False                       False  \n",
       "3                           True                        True  \n",
       "4                           True                       False  "
      ]
     },
     "execution_count": 5,
     "metadata": {},
     "output_type": "execute_result"
    }
   ],
   "source": [
    "# PREVIEW THE USER PROFILE DATASET\n",
    "user_profile.head()"
   ]
  },
  {
   "cell_type": "markdown",
   "metadata": {},
   "source": [
    "##### The distribution of the User Profile in the `user_profile` dataset is presented below with each feature profile is almost identically distributed. This indicates that there a re quite a variety of combination between user profiles."
   ]
  },
  {
   "cell_type": "code",
   "execution_count": 6,
   "metadata": {},
   "outputs": [
    {
     "data": {
      "image/png": "[encoded data removed]",
      "text/plain": [
       "<Figure size 1000x600 with 1 Axes>"
      ]
     },
     "metadata": {},
     "output_type": "display_data"
    }
   ],
   "source": [
    "# USER PROFILE DISTRIBUTION\n",
    "\n",
    "bool_cols = ['is_interested_investment', 'is_interested_build_credit', 'is_interested_increase_income', 'is_interested_pay_off_debt', 'is_interested_manage_spending', 'is_interested_grow_savings']\n",
    "\n",
    "user_profile.columns = user_profile.columns.str.lower()\n",
    "bool_counts = user_profile[bool_cols].apply(lambda col: col.value_counts())\n",
    "\n",
    "fig, ax = plt.subplots(figsize=(10, 6))\n",
    "bool_counts.T.plot(kind=\"bar\", stacked=False, ax=ax)\n",
    "\n",
    "ax.set_title(\"User Profile Distribution\")\n",
    "ax.set_ylabel(\"Users\")\n",
    "ax.set_xlabel(\"Financial Profiles\")\n",
    "plt.xticks(rotation=45, ha='right')\n",
    "plt.legend(title=\"Value\", labels=[\"False\", \"True\"])\n",
    "plt.show()"
   ]
  },
  {
   "cell_type": "markdown",
   "metadata": {},
   "source": [
    "#### 3.1 Text Cleaning\n",
    "##### The preprocessing begins with extracting the `description` column in `bank_transaction.csv` and converting the payment reference text to lowercase and remove digits and common stopwords in English. Ths is necessary for the TF-IDF Vectorization later so that we can find the keywords of the transaction to predict the category."
   ]
  },
  {
   "cell_type": "code",
   "execution_count": 7,
   "metadata": {},
   "outputs": [],
   "source": [
    "# EXTRACTING KEYWORDS FROM DESCRIPTION COLUMN\n",
    "\n",
    "stopwords_list = set([\n",
    "    \"the\", \"is\", \"in\", \"it\", \"of\", \"for\", \"on\", \"with\", \"to\", \"from\", \"by\", \"at\", \n",
    "    \"a\", \"an\", \"and\", \"or\", \"this\", \"that\", \"be\", \"was\", \"were\", \"has\", \"had\", \n",
    "    \"have\", \"as\", \"but\", \"if\", \"then\", \"so\", \"because\", \"about\", \"into\", \"out\", \n",
    "    \"over\", \"under\", \"between\", \"after\", \"before\", \"above\", \"below\", \"again\", \n",
    "    \"once\", \"during\", \"while\", \"can\", \"will\", \"just\", \"don\", \"should\", \"now\"\n",
    "])\n",
    "\n",
    "def clean_text(text):\n",
    "    if isinstance(text, str):\n",
    "        text = text.lower()\n",
    "        text = re.sub(r'\\d+', '', text)\n",
    "        text = re.sub(r'[^\\w\\s]', '', text)\n",
    "        text = text.strip()\n",
    "        text = \" \".join([word for word in text.split() if word not in stopwords_list])\n",
    "        return text\n",
    "    return \"\"\n",
    "\n",
    "bank_transaction[\"cleaned_description\"] = bank_transaction[\"description\"].apply(clean_text)"
   ]
  },
  {
   "cell_type": "markdown",
   "metadata": {},
   "source": [
    "#### 3.2 One-Hot Encoding\n",
    "##### In the `user_profile` dataset, converting the boolean columns to integer representations allows for better and more convenient predictors for categorization in the form of numerical value. TRUE is represented by 1's and FALSE is represented by 0's"
   ]
  },
  {
   "cell_type": "code",
   "execution_count": 8,
   "metadata": {},
   "outputs": [
    {
     "data": {
      "text/html": [
       "<div>\n",
       "<style scoped>\n",
       "    .dataframe tbody tr th:only-of-type {\n",
       "        vertical-align: middle;\n",
       "    }\n",
       "\n",
       "    .dataframe tbody tr th {\n",
       "        vertical-align: top;\n",
       "    }\n",
       "\n",
       "    .dataframe thead th {\n",
       "        text-align: right;\n",
       "    }\n",
       "</style>\n",
       "<table border=\"1\" class=\"dataframe\">\n",
       "  <thead>\n",
       "    <tr style=\"text-align: right;\">\n",
       "      <th></th>\n",
       "      <th>client_id</th>\n",
       "      <th>is_interested_investment</th>\n",
       "      <th>is_interested_build_credit</th>\n",
       "      <th>is_interested_increase_income</th>\n",
       "      <th>is_interested_pay_off_debt</th>\n",
       "      <th>is_interested_manage_spending</th>\n",
       "      <th>is_interested_grow_savings</th>\n",
       "    </tr>\n",
       "  </thead>\n",
       "  <tbody>\n",
       "    <tr>\n",
       "      <th>0</th>\n",
       "      <td>1</td>\n",
       "      <td>0</td>\n",
       "      <td>0</td>\n",
       "      <td>0</td>\n",
       "      <td>0</td>\n",
       "      <td>0</td>\n",
       "      <td>0</td>\n",
       "    </tr>\n",
       "    <tr>\n",
       "      <th>1</th>\n",
       "      <td>2</td>\n",
       "      <td>0</td>\n",
       "      <td>0</td>\n",
       "      <td>0</td>\n",
       "      <td>0</td>\n",
       "      <td>0</td>\n",
       "      <td>0</td>\n",
       "    </tr>\n",
       "    <tr>\n",
       "      <th>2</th>\n",
       "      <td>3</td>\n",
       "      <td>0</td>\n",
       "      <td>0</td>\n",
       "      <td>0</td>\n",
       "      <td>0</td>\n",
       "      <td>0</td>\n",
       "      <td>0</td>\n",
       "    </tr>\n",
       "    <tr>\n",
       "      <th>3</th>\n",
       "      <td>4</td>\n",
       "      <td>0</td>\n",
       "      <td>1</td>\n",
       "      <td>1</td>\n",
       "      <td>1</td>\n",
       "      <td>1</td>\n",
       "      <td>1</td>\n",
       "    </tr>\n",
       "    <tr>\n",
       "      <th>4</th>\n",
       "      <td>5</td>\n",
       "      <td>1</td>\n",
       "      <td>0</td>\n",
       "      <td>1</td>\n",
       "      <td>1</td>\n",
       "      <td>1</td>\n",
       "      <td>0</td>\n",
       "    </tr>\n",
       "  </tbody>\n",
       "</table>\n",
       "</div>"
      ],
      "text/plain": [
       "   client_id  is_interested_investment  is_interested_build_credit  \\\n",
       "0          1                         0                           0   \n",
       "1          2                         0                           0   \n",
       "2          3                         0                           0   \n",
       "3          4                         0                           1   \n",
       "4          5                         1                           0   \n",
       "\n",
       "   is_interested_increase_income  is_interested_pay_off_debt  \\\n",
       "0                              0                           0   \n",
       "1                              0                           0   \n",
       "2                              0                           0   \n",
       "3                              1                           1   \n",
       "4                              1                           1   \n",
       "\n",
       "   is_interested_manage_spending  is_interested_grow_savings  \n",
       "0                              0                           0  \n",
       "1                              0                           0  \n",
       "2                              0                           0  \n",
       "3                              1                           1  \n",
       "4                              1                           0  "
      ]
     },
     "execution_count": 8,
     "metadata": {},
     "output_type": "execute_result"
    }
   ],
   "source": [
    "# TRANSFORM THE USER PROFILE DATASET TO ONE HOT ENCODING\n",
    "\n",
    "user_profile.columns = user_profile.columns.str.lower()\n",
    "bool_cols = user_profile.select_dtypes(include=['bool']).columns\n",
    "encoder = OneHotEncoder(drop='if_binary', dtype=int)\n",
    "encoded_array = encoder.fit_transform(user_profile[bool_cols]).toarray()\n",
    "encoded_df = pd.DataFrame(encoded_array, columns=bool_cols)\n",
    "user_profile[bool_cols] = encoded_df\n",
    "user_profile.head()"
   ]
  },
  {
   "cell_type": "markdown",
   "metadata": {},
   "source": [
    "#### 3.3 Combining The Datasets\n",
    "##### Merging both datasets on `client_id` to get more significant predictors into the model and make better predictions "
   ]
  },
  {
   "cell_type": "code",
   "execution_count": 9,
   "metadata": {},
   "outputs": [],
   "source": [
    "# MERGE THE BANK TRANSACTION AND USER PROFILE DATASETS\n",
    "\n",
    "bank_transaction[\"txn_date\"] = pd.to_datetime(bank_transaction[\"txn_date\"])\n",
    "combined = pd.merge(bank_transaction, user_profile, on=\"client_id\", how=\"left\")\n",
    "combined = combined.dropna(subset=[\"category\"])\n",
    "combined[\"category\"] = combined[\"category\"].astype(\"category\").cat.codes"
   ]
  },
  {
   "cell_type": "markdown",
   "metadata": {},
   "source": [
    "#### 4. Model and Training\n",
    "##### The primary model being Random Forest Classifier, integrated with Pipelines to better re-assess the data. The model is trained using cross-validation to ensure stabilty among splits.\n",
    "##### Random Forest Classifier has the ability to handle mixed data types, transforming them into a powerful and robust model. This algorihtm handles categorical and continuous data accordingly, and able to efficiently handle large amount of transaction data embedded in the datasets. Random Forest Classification uses multiple decision tress to genralize predictions instead od overfitting the model with numerous predictors. \n",
    "#### 4.1 Feature Selection\n",
    "##### The model is focusing on the transaction amount, transaction date, payment description (decomposed into keywords not including common stopwords), and users financial profiles to estimate which categories the transaction fall into."
   ]
  },
  {
   "cell_type": "code",
   "execution_count": 10,
   "metadata": {},
   "outputs": [],
   "source": [
    "# FEATURE SELCTION\n",
    "\n",
    "features = [\"cleaned_description\", \"txn_date\", \"amount\"] + list(bool_cols)\n",
    "xcols = combined[features]\n",
    "ycol = combined[\"category\"]"
   ]
  },
  {
   "cell_type": "markdown",
   "metadata": {},
   "source": [
    "#### 4.2 Train Test Split\n",
    "##### The model split the dataset into train dataset and test dataset. This is to ensure that the model is better of capturing the predictors rather than memoizing. The model allocate 75% of the data to be trained and the remaining 25% for testing purposes"
   ]
  },
  {
   "cell_type": "code",
   "execution_count": 11,
   "metadata": {},
   "outputs": [],
   "source": [
    "# TRAIN TEST SPLIT\n",
    "\n",
    "x_train, x_test, y_train, y_test = train_test_split(xcols, ycol, test_size=0.25, random_state=42, stratify=ycol)"
   ]
  },
  {
   "cell_type": "markdown",
   "metadata": {},
   "source": [
    "#### 4.3 Pipeline\n",
    "##### Although Random Forest is the main algorithm that classifies the transactions, Pipeline is also needed to handle text entries (payment description) and variety of transaction amounts. TF-IDF Vectorizer has a crucial role in determining the features that appear often in the `description`. StandardScaler normalize the transaction amount. The model has an integrated Pipeline and Random Forest Classifier with 50 decision trees."
   ]
  },
  {
   "cell_type": "code",
   "execution_count": 12,
   "metadata": {},
   "outputs": [],
   "source": [
    "# PIPELINE CREATION\n",
    "\n",
    "pipeline = ColumnTransformer([\n",
    "    (\"tfidf\", TfidfVectorizer(max_features=100), \"cleaned_description\"),\n",
    "    (\"amount\", StandardScaler(), [\"amount\"]),\n",
    "], remainder=\"drop\")\n",
    "\n",
    "model = Pipeline([\n",
    "        (\"pipeline\", pipeline),\n",
    "        (\"classifier\", RandomForestClassifier(n_estimators=50, random_state=42, n_jobs=-1))\n",
    "])"
   ]
  },
  {
   "cell_type": "markdown",
   "metadata": {},
   "source": [
    "#### 4.4 Training The Model\n",
    "##### The dataset is trained into the model built earlier. Cross validation scores are needed as benchmark for future model re-development. The model is being fitted for an average of 3 minutes since it has about 200000 rows to be loaded."
   ]
  },
  {
   "cell_type": "code",
   "execution_count": 13,
   "metadata": {},
   "outputs": [],
   "source": [
    "# TRAIN THE MODEL\n",
    "\n",
    "pd.set_option('future.no_silent_downcasting', True)\n",
    "warnings.filterwarnings('ignore')\n",
    "model.fit(x_train, y_train)\n",
    "cv_scores = cross_val_score(model, x_train, y_train, cv=5, scoring='accuracy')"
   ]
  },
  {
   "cell_type": "markdown",
   "metadata": {},
   "source": [
    "#### 5. Experimental Results\n",
    "#### 5.1 Testing The Model\n",
    "##### The Model was evaluated using Cross Validation, with accuracy and classification report being the main indicator to determine model's performance. The model had achieved ~78% accuracy categorizing the transactions."
   ]
  },
  {
   "cell_type": "code",
   "execution_count": 14,
   "metadata": {},
   "outputs": [
    {
     "name": "stdout",
     "output_type": "stream",
     "text": [
      "Model Accuracy 0.7795485138710526\n",
      "Classfication report\n",
      "              precision    recall  f1-score   support\n",
      "\n",
      "           0       0.95      0.98      0.96      1418\n",
      "           1       0.62      0.64      0.63        99\n",
      "           2       0.75      0.33      0.46         9\n",
      "           3       0.95      0.96      0.96      1608\n",
      "           4       0.98      0.96      0.97        53\n",
      "           5       0.44      0.38      0.41       797\n",
      "           6       0.65      0.69      0.67      4658\n",
      "           7       0.31      0.27      0.29       500\n",
      "           8       0.62      0.67      0.65      1131\n",
      "           9       0.37      0.24      0.29        86\n",
      "          10       0.59      0.64      0.62      3230\n",
      "          11       1.00      0.41      0.58        17\n",
      "          12       0.45      0.33      0.38        52\n",
      "          13       0.64      0.57      0.60       438\n",
      "          14       0.57      0.84      0.68        70\n",
      "          15       0.94      0.91      0.93      2996\n",
      "          16       0.90      0.92      0.91      4901\n",
      "          17       0.55      0.60      0.57        10\n",
      "          18       0.91      0.88      0.89      2025\n",
      "          19       0.62      0.60      0.61      6592\n",
      "          20       0.33      0.22      0.27       227\n",
      "          21       0.57      0.57      0.57      1855\n",
      "          22       0.56      0.54      0.55      4188\n",
      "          23       0.00      0.00      0.00         1\n",
      "          24       0.66      0.47      0.55        40\n",
      "          25       0.94      0.94      0.94      7179\n",
      "          26       0.88      0.86      0.87      1569\n",
      "          27       0.95      0.97      0.96      5390\n",
      "          28       0.96      0.98      0.97      3779\n",
      "          29       0.94      0.96      0.95      1244\n",
      "          30       0.47      0.33      0.38        92\n",
      "          31       0.70      0.70      0.70      7348\n",
      "          32       0.67      0.73      0.70      1029\n",
      "\n",
      "    accuracy                           0.78     64631\n",
      "   macro avg       0.68      0.64      0.65     64631\n",
      "weighted avg       0.78      0.78      0.78     64631\n",
      "\n",
      "Mean Cross-Validation Accuracy: 0.7726\n"
     ]
    }
   ],
   "source": [
    "# TEST THE MODEL\n",
    "\n",
    "y_pred = model.predict(x_test)\n",
    "accuracy = accuracy_score(y_test, y_pred)\n",
    "classification_rep = classification_report(y_test, y_pred)\n",
    "print(f\"Model Accuracy {accuracy}\")\n",
    "print(f\"Classfication report\\n{classification_rep}\")\n",
    "print(f\"Mean Cross-Validation Accuracy: {cv_scores.mean():.4f}\")"
   ]
  },
  {
   "cell_type": "markdown",
   "metadata": {},
   "source": [
    "#### 5.2 Additional K-Fold Cross-Validation\n",
    "##### The model was re-evaluated again using 5-Fold Cross-Validation. On all folds the model again performed well, having accuracy between [77, 79] percent. This indicates that the model accuracy could be between the range of [77, 79] percent."
   ]
  },
  {
   "cell_type": "code",
   "execution_count": 15,
   "metadata": {},
   "outputs": [
    {
     "name": "stdout",
     "output_type": "stream",
     "text": [
      "Fold 1: Train Size = 206817, Test Size = 51705\n",
      "Fold 1: Accuracy = 0.7786094188182962\n",
      "Fold 2: Train Size = 206817, Test Size = 51705\n",
      "Fold 2: Accuracy = 0.7783773329465236\n",
      "Fold 3: Train Size = 206818, Test Size = 51704\n",
      "Fold 3: Accuracy = 0.7779282067151477\n",
      "Fold 4: Train Size = 206818, Test Size = 51704\n",
      "Fold 4: Accuracy = 0.7824346278817886\n",
      "Fold 5: Train Size = 206818, Test Size = 51704\n",
      "Fold 5: Accuracy = 0.7781989788024137\n"
     ]
    }
   ],
   "source": [
    "# K-FOLD CROSS VALIDATION\n",
    "\n",
    "folds = KFold(n_splits=5, shuffle=True, random_state=42)\n",
    "\n",
    "for fold, (train_index, test_index) in enumerate(folds.split(xcols), 1):\n",
    "    print(f\"Fold {fold}: Train Size = {len(train_index)}, Test Size = {len(test_index)}\")\n",
    "\n",
    "    x_train, x_test = xcols.iloc[train_index], xcols.iloc[test_index]\n",
    "    y_train, y_test = ycol.iloc[train_index], ycol.iloc[test_index]\n",
    "\n",
    "    pipeline = ColumnTransformer([\n",
    "    (\"tfidf\", TfidfVectorizer(max_features=100), \"cleaned_description\"),\n",
    "    (\"amount\", StandardScaler(), [\"amount\"]),\n",
    "], remainder=\"drop\")\n",
    "\n",
    "    model = Pipeline([\n",
    "        (\"pipeline\", pipeline),\n",
    "        (\"classifier\", RandomForestClassifier(n_estimators=50, random_state=42, n_jobs=-1))\n",
    "])\n",
    "\n",
    "    model.fit(x_train, y_train)\n",
    "\n",
    "    y_pred = model.predict(x_test)\n",
    "    accuracy = accuracy_score(y_test, y_pred)\n",
    "\n",
    "    print(f\"Fold {fold}: Accuracy = {accuracy}\")"
   ]
  },
  {
   "cell_type": "markdown",
   "metadata": {},
   "source": [
    "#### 6. Future Work\n",
    "##### The model had the capability of correctly predicting ~78% transaction categories. This can always be enhanced to achieve more than 90% accuracy. To further enhance the transaction labeling algorithm, improvements should focus on refining data preprocessing, integrating more advanced and complex models, as well as including other real-world deployment strategies.\n",
    "##### 6.1 Future Development in The Next 1 Month\n",
    "##### The development should focus on feature engineering capabilities such as implementing word embeddings for better semantic understanding of `description` and extract seasonal trends from `txn_date`. The development should also focus on handling the class imbalance and not just classifying Uncategorized transactions easily.\n",
    "##### 6.1 Future Development in The Next 3 Months\n",
    "##### Once we have the baseline and the basic model fully optimized, the development can focus on creating Neural Network and Deep Learning Models to incorporate more decision making in classifying the transactions. For instance, exploring some other classification models such as XGBoost or Recurrent Neural Network to better estimate the categories. Another method that might be interesting is transaction description memoization. This could be an interesting factor as it eliminates redundancy to check every transaction given we already have a precedence in the dataset."
   ]
  },
  {
   "cell_type": "markdown",
   "metadata": {},
   "source": [
    "#### 7. Conclusion\n",
    "##### This report entails the model bulding to predict the transaction category. This model focuses on Random Forest Classifier, together with the Pipeline and the Data Preprocessing. As the model explained and achieved, text manipulation and numerical predictors play a major role in determining the categories. The model, on average classify ~78% transactions correctly, providing an indicator on the reliability of the model. "
   ]
  },
  {
   "cell_type": "code",
   "execution_count": 16,
   "metadata": {},
   "outputs": [],
   "source": [
    "import nbformat\n",
    "from nbconvert import HTMLExporter\n",
    "with open(\"analysis.ipynb\") as f:\n",
    "    notebook = nbformat.read(f, as_version=4)\n",
    "html_exporter = HTMLExporter()\n",
    "body, _ = html_exporter.from_notebook_node(notebook)\n",
    "with open(\"bank_transaction_categorization_model.html\", \"w\", encoding=\"utf-8\") as f:\n",
    "    f.write(body)"
   ]
  },
  {
   "cell_type": "code",
   "execution_count": null,
   "metadata": {},
   "outputs": [],
   "source": []
  }
 ],
 "metadata": {
  "kernelspec": {
   "display_name": "Python 3",
   "language": "python",
   "name": "python3"
  },
  "language_info": {
   "codemirror_mode": {
    "name": "ipython",
    "version": 3
   },
   "file_extension": ".py",
   "mimetype": "text/x-python",
   "name": "python",
   "nbconvert_exporter": "python",
   "pygments_lexer": "ipython3",
   "version": "3.13.2"
  }
 },
 "nbformat": 4,
 "nbformat_minor": 2
}
